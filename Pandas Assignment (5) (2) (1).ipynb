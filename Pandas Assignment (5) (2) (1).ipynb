{
 "cells": [
  {
   "cell_type": "code",
   "execution_count": 1,
   "metadata": {},
   "outputs": [
    {
     "name": "stdout",
     "output_type": "stream",
     "text": [
      "Collecting matplotlib\n",
      "  Downloading https://files.pythonhosted.org/packages/9e/59/f235ab21bbe7b7c6570c4abf17ffb893071f4fa3b9cf557b09b60359ad9a/matplotlib-2.2.3-cp36-cp36m-manylinux1_x86_64.whl (12.6MB)\n",
      "\u001b[K    100% |████████████████████████████████| 12.6MB 42kB/s  eta 0:00:01\n",
      "\u001b[?25hCollecting numpy>=1.7.1 (from matplotlib)\n",
      "  Downloading https://files.pythonhosted.org/packages/fe/94/7049fed8373c52839c8cde619acaf2c9b83082b935e5aa8c0fa27a4a8bcc/numpy-1.15.1-cp36-cp36m-manylinux1_x86_64.whl (13.9MB)\n",
      "\u001b[K    100% |████████████████████████████████| 13.9MB 38kB/s  eta 0:00:01  1% |▋                               | 266kB 31.5MB/s eta 0:00:01 eta 0:00:01\n",
      "\u001b[?25hCollecting cycler>=0.10 (from matplotlib)\n",
      "  Downloading https://files.pythonhosted.org/packages/f7/d2/e07d3ebb2bd7af696440ce7e754c59dd546ffe1bbe732c8ab68b9c834e61/cycler-0.10.0-py2.py3-none-any.whl\n",
      "Collecting pyparsing!=2.0.4,!=2.1.2,!=2.1.6,>=2.0.1 (from matplotlib)\n",
      "  Downloading https://files.pythonhosted.org/packages/6a/8a/718fd7d3458f9fab8e67186b00abdd345b639976bc7fb3ae722e1b026a50/pyparsing-2.2.0-py2.py3-none-any.whl (56kB)\n",
      "\u001b[K    100% |████████████████████████████████| 61kB 4.0MB/s eta 0:00:01\n",
      "\u001b[?25hCollecting pytz (from matplotlib)\n",
      "  Downloading https://files.pythonhosted.org/packages/30/4e/27c34b62430286c6d59177a0842ed90dc789ce5d1ed740887653b898779a/pytz-2018.5-py2.py3-none-any.whl (510kB)\n",
      "\u001b[K    100% |████████████████████████████████| 512kB 1.2MB/s eta 0:00:01\n",
      "\u001b[?25hCollecting kiwisolver>=1.0.1 (from matplotlib)\n",
      "  Downloading https://files.pythonhosted.org/packages/69/a7/88719d132b18300b4369fbffa741841cfd36d1e637e1990f27929945b538/kiwisolver-1.0.1-cp36-cp36m-manylinux1_x86_64.whl (949kB)\n",
      "\u001b[K    100% |████████████████████████████████| 952kB 600kB/s eta 0:00:01\n",
      "\u001b[?25hRequirement already satisfied: six>=1.10 in /srv/conda/lib/python3.6/site-packages (from matplotlib)\n",
      "Requirement already satisfied: python-dateutil>=2.1 in /srv/conda/lib/python3.6/site-packages (from matplotlib)\n",
      "Requirement already satisfied: setuptools in /srv/conda/lib/python3.6/site-packages (from kiwisolver>=1.0.1->matplotlib)\n",
      "Installing collected packages: numpy, cycler, pyparsing, pytz, kiwisolver, matplotlib\n",
      "Successfully installed cycler-0.10.0 kiwisolver-1.0.1 matplotlib-2.2.3 numpy-1.15.1 pyparsing-2.2.0 pytz-2018.5\n",
      "\u001b[33mYou are using pip version 9.0.3, however version 18.0 is available.\n",
      "You should consider upgrading via the 'pip install --upgrade pip' command.\u001b[0m\n",
      "Collecting pandas\n",
      "  Downloading https://files.pythonhosted.org/packages/e1/d8/feeb346d41f181e83fba45224ab14a8d8af019b48af742e047f3845d8cff/pandas-0.23.4-cp36-cp36m-manylinux1_x86_64.whl (8.9MB)\n",
      "\u001b[K    100% |████████████████████████████████| 8.9MB 62kB/s  eta 0:00:01    58% |██████████████████▉             | 5.2MB 26.4MB/s eta 0:00:01\n",
      "\u001b[?25hRequirement already satisfied: numpy>=1.9.0 in /srv/conda/lib/python3.6/site-packages (from pandas)\n",
      "Requirement already satisfied: python-dateutil>=2.5.0 in /srv/conda/lib/python3.6/site-packages (from pandas)\n",
      "Requirement already satisfied: pytz>=2011k in /srv/conda/lib/python3.6/site-packages (from pandas)\n",
      "Requirement already satisfied: six>=1.5 in /srv/conda/lib/python3.6/site-packages (from python-dateutil>=2.5.0->pandas)\n",
      "Installing collected packages: pandas\n",
      "Successfully installed pandas-0.23.4\n",
      "\u001b[33mYou are using pip version 9.0.3, however version 18.0 is available.\n",
      "You should consider upgrading via the 'pip install --upgrade pip' command.\u001b[0m\n"
     ]
    }
   ],
   "source": [
    "!pip install matplotlib\n",
    "!pip install pandas\n",
    "import pandas as pd\n",
    "from pandas import Series,DataFrame\n",
    "import numpy as np\n",
    "from numpy.random import randn\n",
    "import matplotlib.pyplot as plt"
   ]
  },
  {
   "cell_type": "markdown",
   "metadata": {},
   "source": [
    "Working on Series"
   ]
  },
  {
   "cell_type": "code",
   "execution_count": 2,
   "metadata": {},
   "outputs": [
    {
     "name": "stdout",
     "output_type": "stream",
     "text": [
      "0    51\n",
      "1    50\n",
      "2     5\n",
      "3     2\n",
      "dtype: int64\n",
      "[51 50  5  2]\n",
      "RangeIndex(start=0, stop=4, step=1)\n"
     ]
    }
   ],
   "source": [
    "object = Series([51,50,5,2])\n",
    "print(object)\n",
    "print(object.values)\n",
    "print(object.index)"
   ]
  },
  {
   "cell_type": "markdown",
   "metadata": {},
   "source": [
    "Using Numpy Arrays to Series"
   ]
  },
  {
   "cell_type": "code",
   "execution_count": 4,
   "metadata": {},
   "outputs": [
    {
     "name": "stdout",
     "output_type": "stream",
     "text": [
      "0      Tuktuk\n",
      "1       Krati\n",
      "2    CutiePie\n",
      "dtype: object\n",
      "100      Tuktuk\n",
      "101       Krati\n",
      "102    CutiePie\n",
      "dtype: object\n"
     ]
    }
   ],
   "source": [
    "data_array = np.array(['Tuktuk','Krati','CutiePie'])\n",
    "s = Series(data_array)\n",
    "print(s)\n",
    "\n",
    "#custom indexing\n",
    "s = Series(data_array,index=[100,101,102])\n",
    "print(s)"
   ]
  },
  {
   "cell_type": "code",
   "execution_count": 6,
   "metadata": {},
   "outputs": [
    {
     "name": "stdout",
     "output_type": "stream",
     "text": [
      "ola      20\n",
      "uber     80\n",
      "grab     40\n",
      "gojek    35\n",
      "dtype: int64\n",
      "20\n",
      "uber     80\n",
      "grab     40\n",
      "gojek    35\n",
      "dtype: int64\n"
     ]
    }
   ],
   "source": [
    "#using real life ex\n",
    "revenue = Series([20,80,40,35],\n",
    "index=['ola','uber','grab','gojek'])\n",
    "print(revenue)\n",
    "print(revenue['ola'])\n",
    "print(revenue[revenue>=35])"
   ]
  },
  {
   "cell_type": "code",
   "execution_count": 7,
   "metadata": {},
   "outputs": [
    {
     "name": "stdout",
     "output_type": "stream",
     "text": [
      "False\n",
      "ola      20.0\n",
      "uber     80.0\n",
      "grab     40.0\n",
      "gojek    35.0\n",
      "lyft      NaN\n",
      "dtype: float64\n",
      "gojek     70.0\n",
      "grab      80.0\n",
      "lyft       NaN\n",
      "ola       40.0\n",
      "uber     160.0\n",
      "dtype: float64\n"
     ]
    }
   ],
   "source": [
    "#use boolean conditions\n",
    "print('lyft' in revenue)\n",
    "\n",
    "#nan values\n",
    "index_2 = ['ola','uber','grab','gojek','lyft']\n",
    "revenue2 = Series(revenue,index_2)\n",
    "print(revenue2)\n",
    "\n",
    "#addition of series (+)\n",
    "print(revenue+revenue2)"
   ]
  },
  {
   "cell_type": "code",
   "execution_count": 8,
   "metadata": {},
   "outputs": [
    {
     "name": "stdout",
     "output_type": "stream",
     "text": [
      "ola       True\n",
      "uber      True\n",
      "grab      True\n",
      "gojek     True\n",
      "lyft     False\n",
      "dtype: bool\n"
     ]
    }
   ],
   "source": [
    "#isnull and notnull\n",
    "#print(\"Checking is series contains any null values :\\n\"+str(pd.isnull(revenue2)))\n",
    "print(pd.notnull(revenue2))"
   ]
  },
  {
   "cell_type": "code",
   "execution_count": 10,
   "metadata": {},
   "outputs": [
    {
     "name": "stdout",
     "output_type": "stream",
     "text": [
      "Company Name\n",
      "ola      20.0\n",
      "uber     80.0\n",
      "grab     40.0\n",
      "gojek    35.0\n",
      "lyft      NaN\n",
      "Name: Company Revenues, dtype: float64\n",
      "{'ola': 20, 'uber': 80, 'grab': 40, 'gojek': 35}\n"
     ]
    }
   ],
   "source": [
    "#assigning names\n",
    "revenue2.name=\"Company Revenues\"\n",
    "revenue2.index.name=\"Company Name\"\n",
    "print(revenue2)\n",
    "\n",
    "revenue_dict = revenue.to_dict()\n",
    "print(revenue_dict)"
   ]
  },
  {
   "cell_type": "markdown",
   "metadata": {},
   "source": [
    "DataFrames for read from clipboard"
   ]
  },
  {
   "cell_type": "code",
   "execution_count": null,
   "metadata": {},
   "outputs": [],
   "source": [
    "#example - Revenue of companies\n",
    "revenue_df = pd.read_clipboard()\n",
    "print(revenue_df)\n",
    "print revenue_df.columns\n",
    "print revenue_df['Rank ']\n",
    "revenue_df2 = DataFrame(revenue_df,columns=['Rank ','Name ','Industry ','Profit'])\n",
    "print revenue_df2\n",
    "\n",
    "#head and tail\n",
    "print revenue_df.head(2)\n",
    "print revenue_df.tail(2)\n",
    "\n",
    "#access rows in df\n",
    "print revenue_df.ix[0] #row 1\n",
    "print revenue_df.ix[5] #row 6\n",
    "\n",
    "array1 = np.array([1,2,3,4,5,6])\n",
    "revenue_df2['Profit'] = array1\n",
    "print revenue_df2\n",
    "\n",
    "#series\n",
    "profits = Series([900,1000],index=[3,5])\n",
    "revenue_df2['Profit'] = profits\n",
    "print revenue_df2\n",
    "\n",
    "del revenue_df2['Profit']\n",
    "print revenue_df2"
   ]
  },
  {
   "cell_type": "markdown",
   "metadata": {},
   "source": [
    "Dictonary function to Dataframe "
   ]
  },
  {
   "cell_type": "code",
   "execution_count": 12,
   "metadata": {},
   "outputs": [
    {
     "name": "stdout",
     "output_type": "stream",
     "text": [
      "{'Name': ['Vijender Singh', 'Guddu'], 'Salary': ['Rs.1200000', 'Rs.246000']}\n",
      "             Name      Salary\n",
      "0  Vijender Singh  Rs.1200000\n",
      "1           Guddu   Rs.246000\n"
     ]
    }
   ],
   "source": [
    "#dictionary function to dataframe\n",
    "sample = {\n",
    "     'Name':['Vijender Singh','Guddu'],\n",
    "     'Salary':['Rs.1200000','Rs.246000']\n",
    "}\n",
    "#\n",
    "print(sample)\n",
    "#\n",
    "sample_df = DataFrame(sample)\n",
    "print(sample_df)"
   ]
  },
  {
   "cell_type": "markdown",
   "metadata": {},
   "source": [
    "Index-Objects"
   ]
  },
  {
   "cell_type": "code",
   "execution_count": 13,
   "metadata": {},
   "outputs": [
    {
     "name": "stdout",
     "output_type": "stream",
     "text": [
      "Index(['a1', 'b1', 'c1', 'd1'], dtype='object')\n",
      "Index(['c1', 'd1'], dtype='object')\n",
      "Index(['c1', 'd1'], dtype='object')\n",
      "Index(['a1', 'b1'], dtype='object')\n",
      "Index(['c1', 'd1'], dtype='object')\n"
     ]
    }
   ],
   "source": [
    "series1 = Series([101,201,301,401],index=['a1','b1','c1','d1'])\n",
    "\n",
    "index1 = series1.index\n",
    "print(index1)\n",
    "\n",
    "print(index1[2:])\n",
    "\n",
    "#negative indexes\n",
    "print(index1[-2:])\n",
    "print(index1[:-2])\n",
    "\n",
    "print(index1[2:4])\n",
    "\n",
    "#interesting\n",
    "#index1[0] = 'e' #TypeError: Index does not support mutable operations"
   ]
  },
  {
   "cell_type": "markdown",
   "metadata": {},
   "source": [
    "Reindexing in pandas"
   ]
  },
  {
   "cell_type": "code",
   "execution_count": 16,
   "metadata": {},
   "outputs": [
    {
     "name": "stdout",
     "output_type": "stream",
     "text": [
      "1    Sachin\n",
      "2     Kohli\n",
      "3    Sehwag\n",
      "dtype: object\n",
      "1    Sachin\n",
      "2     Kohli\n",
      "3    Sehwag\n",
      "4       NaN\n",
      "dtype: object\n"
     ]
    }
   ],
   "source": [
    "#create new series series1\n",
    "cricketers = Series(['Sachin','Kohli','Sehwag'],index=[1,2,3])\n",
    "print(cricketers)\n",
    "\n",
    "#creating new indexes using reindex\n",
    "cricketers = cricketers.reindex([1,2,3,4])\n",
    "print(cricketers)\n"
   ]
  },
  {
   "cell_type": "code",
   "execution_count": 18,
   "metadata": {},
   "outputs": [
    {
     "name": "stdout",
     "output_type": "stream",
     "text": [
      "1    Sachin\n",
      "2     Kohli\n",
      "3    Sehwag\n",
      "4       NaN\n",
      "5     Dhoni\n",
      "dtype: object\n",
      "range(0, 8)\n",
      "0       NaN\n",
      "1    Sachin\n",
      "2     Kohli\n",
      "3    Sehwag\n",
      "4       NaN\n",
      "5     Dhoni\n",
      "6     Dhoni\n",
      "7     Dhoni\n",
      "dtype: object\n"
     ]
    }
   ],
   "source": [
    "#using fillvalue\n",
    "cricketers = cricketers.reindex([1,2,3,4,5],fill_value='Dhoni')\n",
    "print(cricketers)\n",
    "\n",
    "ranger = range(8)\n",
    "print(ranger)\n",
    "\n",
    "#forward fill\n",
    "cricketers = cricketers.reindex(ranger,method=\"ffill\") \n",
    "print(cricketers)"
   ]
  },
  {
   "cell_type": "code",
   "execution_count": 26,
   "metadata": {},
   "outputs": [
    {
     "name": "stdout",
     "output_type": "stream",
     "text": [
      "           c1          c2          c3\n",
      "a    3.245230   40.515879    5.962972\n",
      "b  117.484450  183.517995   23.278468\n",
      "c   94.871352  166.665619  122.659599\n",
      "           c1          c2          c3\n",
      "a    3.245230   40.515879    5.962972\n",
      "b  117.484450  183.517995   23.278468\n",
      "c   94.871352  166.665619  122.659599\n",
      "d         NaN         NaN         NaN\n",
      "           c1          c2          c3  c4\n",
      "a    3.245230   40.515879    5.962972 NaN\n",
      "b  117.484450  183.517995   23.278468 NaN\n",
      "c   94.871352  166.665619  122.659599 NaN\n",
      "d         NaN         NaN         NaN NaN\n",
      "           c1          c2          c3  c4  c5\n",
      "a    3.245230   40.515879    5.962972 NaN NaN\n",
      "b  117.484450  183.517995   23.278468 NaN NaN\n",
      "c   94.871352  166.665619  122.659599 NaN NaN\n",
      "d         NaN         NaN         NaN NaN NaN\n",
      "e         NaN         NaN         NaN NaN NaN\n"
     ]
    },
    {
     "name": "stderr",
     "output_type": "stream",
     "text": [
      "/srv/conda/lib/python3.6/site-packages/ipykernel_launcher.py:16: DeprecationWarning: \n",
      ".ix is deprecated. Please use\n",
      ".loc for label based indexing or\n",
      ".iloc for positional indexing\n",
      "\n",
      "See the documentation here:\n",
      "http://pandas.pydata.org/pandas-docs/stable/indexing.html#ix-indexer-is-deprecated\n",
      "  app.launch_new_instance()\n",
      "/srv/conda/lib/python3.6/site-packages/ipykernel_launcher.py:16: FutureWarning: \n",
      "Passing list-likes to .loc or [] with any missing label will raise\n",
      "KeyError in the future, you can use .reindex() as an alternative.\n",
      "\n",
      "See the documentation here:\n",
      "https://pandas.pydata.org/pandas-docs/stable/indexing.html#deprecate-loc-reindex-listlike\n",
      "  app.launch_new_instance()\n"
     ]
    }
   ],
   "source": [
    "#create new dataframe using randn\n",
    "df_1 = DataFrame((abs(randn(9))*100).reshape(3,3),\n",
    "                 index=['a','b','c'],\n",
    "                 columns=['c1','c2','c3'])\n",
    "print(df_1)\n",
    "\n",
    "#reindex rows of dataframe\n",
    "df_2 = df_1.reindex(['a','b','c','d'])\n",
    "print(df_2)\n",
    "\n",
    "# #reindex columns of dataframe\n",
    "df_3 = df_2.reindex(columns=['c1','c2','c3','c4'])\n",
    "print(df_3)\n",
    "\n",
    "# #using .ix[] to reindex\n",
    "df_4 = df_1.ix[['a','b','c','d','e'],['c1','c2','c3','c4','c5']]\n",
    "print(df_4)"
   ]
  },
  {
   "cell_type": "code",
   "execution_count": null,
   "metadata": {},
   "outputs": [],
   "source": [
    "Drop Entries"
   ]
  },
  {
   "cell_type": "code",
   "execution_count": 33,
   "metadata": {},
   "outputs": [
    {
     "name": "stdout",
     "output_type": "stream",
     "text": [
      "2    Kholi\n",
      "3     Root\n",
      "dtype: object\n",
      "       t20  odi  test\n",
      "Smith    0    1     2\n",
      "Kholi    3    4     5\n",
      "Root     6    7     8\n",
      "       t20  odi  test\n",
      "Kholi    3    4     5\n",
      "Root     6    7     8\n",
      "       t20  odi\n",
      "Kholi    3    4\n",
      "Root     6    7\n"
     ]
    }
   ],
   "source": [
    "cricketers = Series(['Smith','Kholi','Root'],index=[1,2,3])\n",
    "cricketers = cricketers.drop(1)\n",
    "print(cricketers)\n",
    "\n",
    "#dataframes\n",
    "cricketers_df = DataFrame(np.arange(9).reshape(3,3),\n",
    "                          index=['Smith','Kholi','Root'],\n",
    "                          columns=['t20','odi','test'])\n",
    "print(cricketers_df)\n",
    "\n",
    "cricketers_df = cricketers_df.drop('Smith',axis=0)\n",
    "print(cricketers_df)\n",
    "\n",
    "cricketers_df = cricketers_df.drop('test',axis=1)\n",
    "print(cricketers_df)"
   ]
  },
  {
   "cell_type": "markdown",
   "metadata": {},
   "source": [
    "Handling Null Data in Series"
   ]
  },
  {
   "cell_type": "code",
   "execution_count": 34,
   "metadata": {},
   "outputs": [
    {
     "name": "stdout",
     "output_type": "stream",
     "text": [
      "0      A\n",
      "1      B\n",
      "2      C\n",
      "3      D\n",
      "4    NaN\n",
      "dtype: object\n",
      "0    False\n",
      "1    False\n",
      "2    False\n",
      "3    False\n",
      "4     True\n",
      "dtype: bool\n",
      "0    A\n",
      "1    B\n",
      "2    C\n",
      "3    D\n",
      "dtype: object\n"
     ]
    }
   ],
   "source": [
    "series1 = Series(['A','B','C','D',np.nan])\n",
    "print(series1)\n",
    "\n",
    "#validate\n",
    "print(series1.isnull())\n",
    "print(series1.dropna())"
   ]
  },
  {
   "cell_type": "markdown",
   "metadata": {},
   "source": [
    "Handling Null Data in DataFrame"
   ]
  },
  {
   "cell_type": "code",
   "execution_count": 38,
   "metadata": {},
   "outputs": [
    {
     "name": "stdout",
     "output_type": "stream",
     "text": [
      "Default DataFrame is \n",
      "      0     1      2\n",
      "0  11.0  22.0   33.0\n",
      "1  55.0  66.0    NaN\n",
      "2  77.0   NaN  110.0\n",
      "3   NaN   NaN    NaN\n",
      "      0     1     2\n",
      "0  11.0  22.0  33.0\n",
      "      0     1      2\n",
      "0  11.0  22.0   33.0\n",
      "1  55.0  66.0    NaN\n",
      "2  77.0   NaN  110.0\n",
      "Empty DataFrame\n",
      "Columns: []\n",
      "Index: [0, 1, 2, 3]\n",
      "     0     1     2     3\n",
      "0   11  22.0  31.0   NaN\n",
      "1   42  45.0  65.0  77.0\n",
      "2   82  93.0   NaN   NaN\n",
      "3  112   NaN   NaN   NaN\n",
      "    0     1     2     3\n",
      "0  11  22.0  31.0   NaN\n",
      "1  42  45.0  65.0  77.0\n",
      "    0     1     2     3\n",
      "0  11  22.0  31.0   NaN\n",
      "1  42  45.0  65.0  77.0\n",
      "2  82  93.0   NaN   NaN\n",
      "     0     1     2     3\n",
      "0   11  22.0  31.0   0.0\n",
      "1   42  45.0  65.0  77.0\n",
      "2   82  93.0   0.0   0.0\n",
      "3  112   0.0   0.0   0.0\n",
      "     0     1     2     3\n",
      "0   11  22.0  31.0  40.0\n",
      "1   42  45.0  65.0  77.0\n",
      "2   82  93.0  30.0  40.0\n",
      "3  112  20.0  30.0  40.0\n"
     ]
    }
   ],
   "source": [
    "df1 = DataFrame([[11,22,33],[55,66,np.nan],\n",
    "                 [77,np.nan,110],[np.nan,np.nan,np.nan]])\n",
    "print(\"Default DataFrame is \\n\"+str(df1))\n",
    "\n",
    "print(df1.dropna())\n",
    "print(df1.dropna(how='all'))\n",
    "\n",
    "#column wise drop6,\n",
    "print(df1.dropna(axis=1))\n",
    "\n",
    "df2 = DataFrame([[11,22,31,np.nan],[42,45,65,77],\n",
    "                 [82,93,np.nan,np.nan],[112,np.nan,np.nan,np.nan]])\n",
    "print(df2)\n",
    "\n",
    "print(df2.dropna(thresh=3))\n",
    "print(df2.dropna(thresh=2))\n",
    "\n",
    "#fillna\n",
    "print(df2.fillna(0))\n",
    "print(df2.fillna({0:10,1:20,2:30,3:40}))\n"
   ]
  },
  {
   "cell_type": "code",
   "execution_count": null,
   "metadata": {},
   "outputs": [],
   "source": [
    "Selecting Moditying Entires"
   ]
  },
  {
   "cell_type": "code",
   "execution_count": 39,
   "metadata": {},
   "outputs": [
    {
     "name": "stdout",
     "output_type": "stream",
     "text": [
      "A    10\n",
      "B    20\n",
      "C    30\n",
      "dtype: int64\n",
      "10\n",
      "A    10\n",
      "B    20\n",
      "dtype: int64\n",
      "10\n",
      "A    10\n",
      "B    20\n",
      "dtype: int64\n",
      "Series([], dtype: int64)\n",
      "Series([], dtype: int64)\n"
     ]
    }
   ],
   "source": [
    "series1 = Series([10,20,30],index=['A','B','C'])\n",
    "print(series1)\n",
    "\n",
    "print(series1['A'])\n",
    "print(series1[['A','B']])\n",
    "\n",
    "#number indexes\n",
    "print(series1[0])\n",
    "print(series1[0:2])\n",
    "\n",
    "#conditional indexes\n",
    "print(series1[series1>150])\n",
    "print(series1[series1==300])"
   ]
  },
  {
   "cell_type": "code",
   "execution_count": 2,
   "metadata": {},
   "outputs": [
    {
     "name": "stdout",
     "output_type": "stream",
     "text": [
      "      Dhoni  Kholi  Sachin\n",
      "t20       0      1       2\n",
      "odi       3      4       5\n",
      "test      6      7       8\n",
      "t20     0\n",
      "odi     3\n",
      "test    6\n",
      "Name: Dhoni, dtype: int64\n",
      "      Sachin  Kholi\n",
      "t20        2      1\n",
      "odi        5      4\n",
      "test       8      7\n",
      "      Dhoni  Kholi  Sachin\n",
      "t20   False  False   False\n",
      "odi   False  False   False\n",
      "test   True   True    True\n",
      "Dhoni     0\n",
      "Kholi     1\n",
      "Sachin    2\n",
      "Name: t20, dtype: int64\n",
      "Dhoni     3\n",
      "Kholi     4\n",
      "Sachin    5\n",
      "Name: odi, dtype: int64\n"
     ]
    },
    {
     "name": "stderr",
     "output_type": "stream",
     "text": [
      "/srv/conda/lib/python3.6/site-packages/ipykernel_launcher.py:13: DeprecationWarning: \n",
      ".ix is deprecated. Please use\n",
      ".loc for label based indexing or\n",
      ".iloc for positional indexing\n",
      "\n",
      "See the documentation here:\n",
      "http://pandas.pydata.org/pandas-docs/stable/indexing.html#ix-indexer-is-deprecated\n",
      "  del sys.path[0]\n",
      "/srv/conda/lib/python3.6/site-packages/ipykernel_launcher.py:14: DeprecationWarning: \n",
      ".ix is deprecated. Please use\n",
      ".loc for label based indexing or\n",
      ".iloc for positional indexing\n",
      "\n",
      "See the documentation here:\n",
      "http://pandas.pydata.org/pandas-docs/stable/indexing.html#ix-indexer-is-deprecated\n",
      "  \n"
     ]
    }
   ],
   "source": [
    "#using df and accesing\n",
    "df1 = DataFrame(np.arange(9).reshape(3,3),\n",
    "                index=['t20','odi','test'],\n",
    "                columns=['Dhoni','Kholi','Sachin'])\n",
    "print(df1)\n",
    "\n",
    "print(df1['Dhoni'])\n",
    "print(df1[['Sachin','Kholi']])\n",
    "\n",
    "print(df1>5)\n",
    "\n",
    "#ix function access\n",
    "print(df1.ix['t20'])\n",
    "print(df1.ix[1])"
   ]
  },
  {
   "cell_type": "code",
   "execution_count": null,
   "metadata": {},
   "outputs": [],
   "source": [
    "Data Alignment"
   ]
  },
  {
   "cell_type": "code",
   "execution_count": 3,
   "metadata": {},
   "outputs": [
    {
     "name": "stdout",
     "output_type": "stream",
     "text": [
      "a    40.0\n",
      "b    60.0\n",
      "c    80.0\n",
      "d     NaN\n",
      "dtype: float64\n",
      "      a  b\n",
      "car   0  1\n",
      "bike  2  3\n",
      "       a  b  c\n",
      "car    0  1  2\n",
      "bike   3  4  5\n",
      "cycle  6  7  8\n",
      "         a    b   c\n",
      "bike   5.0  7.0 NaN\n",
      "car    0.0  2.0 NaN\n",
      "cycle  NaN  NaN NaN\n",
      "         a    b    c\n",
      "bike   5.0  7.0  5.0\n",
      "car    0.0  2.0  2.0\n",
      "cycle  6.0  7.0  8.0\n",
      "       a  b  c\n",
      "car    0  0  0\n",
      "bike   3  3  3\n",
      "cycle  6  6  6\n"
     ]
    },
    {
     "name": "stderr",
     "output_type": "stream",
     "text": [
      "/srv/conda/lib/python3.6/site-packages/ipykernel_launcher.py:18: DeprecationWarning: \n",
      ".ix is deprecated. Please use\n",
      ".loc for label based indexing or\n",
      ".iloc for positional indexing\n",
      "\n",
      "See the documentation here:\n",
      "http://pandas.pydata.org/pandas-docs/stable/indexing.html#ix-indexer-is-deprecated\n"
     ]
    }
   ],
   "source": [
    "ser_a = Series([10,20,30],index=['a','b','c'])\n",
    "ser_b = Series([30,40,50,60],index=['a','b','c','d'])\n",
    "\n",
    "#sum of series\n",
    "print(ser_a+ser_b)\n",
    "\n",
    "#dataframe\n",
    "df1 = DataFrame(np.arange(4).reshape(2,2),\n",
    "                columns=['a','b'],index=['car','bike'])\n",
    "print(df1)\n",
    "df2 = DataFrame(np.arange(9).reshape(3,3),\n",
    "                columns=['a','b','c'],\n",
    "                index=['car','bike','cycle'])\n",
    "print(df2)\n",
    "print(df1+df2)\n",
    "\n",
    "#important\n",
    "df1 = df1.add(df2,fill_value=0)\n",
    "print(df1)\n",
    "\n",
    "ser_c = df2.ix[0]\n",
    "print(df2 - ser_c)\n"
   ]
  },
  {
   "cell_type": "code",
   "execution_count": null,
   "metadata": {},
   "outputs": [],
   "source": [
    "Ranking Sorting"
   ]
  },
  {
   "cell_type": "code",
   "execution_count": 7,
   "metadata": {},
   "outputs": [
    {
     "name": "stdout",
     "output_type": "stream",
     "text": [
      "Dhoni      50\n",
      "Kholi     100\n",
      "Sachin    150\n",
      "dtype: int64\n",
      "Dhoni      50\n",
      "Kholi     100\n",
      "Sachin    150\n",
      "dtype: int64\n",
      "Dhoni      50\n",
      "Kholi     100\n",
      "Sachin    150\n",
      "dtype: int64\n",
      "Dhoni     1.0\n",
      "Kholi     2.0\n",
      "Sachin    3.0\n",
      "dtype: float64\n"
     ]
    }
   ],
   "source": [
    "ser1 =Series([50,100,150],\n",
    "             index=['Dhoni','Kholi','Sachin'])\n",
    "print(ser1)\n",
    "#sorting by index\n",
    "print(ser1.sort_index())\n",
    "\n",
    "#sort by values\n",
    "print(ser1.sort_values())\n",
    "\n",
    "print(ser1.rank())"
   ]
  },
  {
   "cell_type": "code",
   "execution_count": null,
   "metadata": {},
   "outputs": [],
   "source": [
    "Pandas Statistical"
   ]
  },
  {
   "cell_type": "code",
   "execution_count": 10,
   "metadata": {},
   "outputs": [
    {
     "name": "stdout",
     "output_type": "stream",
     "text": [
      "      A     B     C\n",
      "1  40.0   NaN  20.0\n",
      "2  40.0  50.0   NaN\n",
      "A    80.0\n",
      "B    50.0\n",
      "C    20.0\n",
      "dtype: float64\n",
      "1    60.0\n",
      "2    90.0\n",
      "dtype: float64\n",
      "A    40.0\n",
      "B    50.0\n",
      "C    20.0\n",
      "dtype: float64\n",
      "A    40.0\n",
      "B    50.0\n",
      "C    20.0\n",
      "dtype: float64\n",
      "A    1\n",
      "B    2\n",
      "C    1\n",
      "dtype: int64\n",
      "      A     B     C\n",
      "1  40.0   NaN  20.0\n",
      "2  80.0  50.0   NaN\n",
      "          A     B     C\n",
      "count   2.0   1.0   1.0\n",
      "mean   40.0  50.0  20.0\n",
      "std     0.0   NaN   NaN\n",
      "min    40.0  50.0  20.0\n",
      "25%    40.0  50.0  20.0\n",
      "50%    40.0  50.0  20.0\n",
      "75%    40.0  50.0  20.0\n",
      "max    40.0  50.0  20.0\n"
     ]
    }
   ],
   "source": [
    "array1 = np.array([[40,np.nan,20],[40,50,np.nan]])\n",
    "\n",
    "df1 = DataFrame(array1,index=[1,2],columns=list('ABC'))\n",
    "print(df1)\n",
    "\n",
    "print(df1.sum())\n",
    "print(df1.sum(axis=1))\n",
    "\n",
    "print(df1.min())\n",
    "print(df1.max())\n",
    "\n",
    "print(df1.idxmax())\n",
    "print(df1.cumsum())\n",
    "print(df1.describe())"
   ]
  },
  {
   "cell_type": "markdown",
   "metadata": {},
   "source": [
    "Unique Values in Series and count of unique"
   ]
  },
  {
   "cell_type": "code",
   "execution_count": 14,
   "metadata": {},
   "outputs": [
    {
     "name": "stdout",
     "output_type": "stream",
     "text": [
      "Unique Values: ['a' 'A' 'h' 'e' 'l' 'o']\n",
      "Count of unique values \n",
      "o    2\n",
      "l    2\n",
      "h    1\n",
      "A    1\n",
      "e    1\n",
      "a    1\n",
      "dtype: int64\n"
     ]
    }
   ],
   "source": [
    "ser1 = Series(list('aAhelloo'))\n",
    "print(\"Unique Values: \"+str(ser1.unique()))\n",
    "print(\"Count of unique values \\n\"+str(ser1.value_counts()))"
   ]
  },
  {
   "cell_type": "markdown",
   "metadata": {},
   "source": [
    "Statiscal Ploting DataFrame"
   ]
  },
  {
   "cell_type": "code",
   "execution_count": 34,
   "metadata": {},
   "outputs": [
    {
     "name": "stdout",
     "output_type": "stream",
     "text": [
      "          A         B         C\n",
      "1  1.042853  0.147400  0.273467\n",
      "2  0.146897  0.941099  0.204336\n",
      "3  1.166290  1.143703  0.796808\n"
     ]
    },
    {
     "data": {
      "image/png": "[encoded data removed]",
      "text/plain": [
       "<Figure size 432x288 with 1 Axes>"
      ]
     },
     "metadata": {},
     "output_type": "display_data"
    }
   ],
   "source": [
    "df2 = DataFrame(abs(randn(9)).reshape(3,3),index=[1,2,3],columns=list('ABC'))\n",
    "print(df2)\n",
    "plt.plot(df2)\n",
    "plt.legend(df2.columns,loc=\"best\")\n",
    "plt.savefig('samplepic.png')\n",
    "plt.show()"
   ]
  },
  {
   "cell_type": "code",
   "execution_count": null,
   "metadata": {},
   "outputs": [],
   "source": []
  },
  {
   "cell_type": "raw",
   "metadata": {},
   "source": []
  },
  {
   "cell_type": "code",
   "execution_count": null,
   "metadata": {},
   "outputs": [],
   "source": []
  }
 ],
 "metadata": {
  "kernelspec": {
   "display_name": "Python 3",
   "language": "python",
   "name": "python3"
  },
  "language_info": {
   "codemirror_mode": {
    "name": "ipython",
    "version": 3
   },
   "file_extension": ".py",
   "mimetype": "text/x-python",
   "name": "python",
   "nbconvert_exporter": "python",
   "pygments_lexer": "ipython3",
   "version": "3.6.5"
  }
 },
 "nbformat": 4,
 "nbformat_minor": 2
}
