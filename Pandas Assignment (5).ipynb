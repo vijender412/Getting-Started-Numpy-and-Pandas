{
 "cells": [
  {
   "cell_type": "code",
   "execution_count": 41,
   "metadata": {},
   "outputs": [],
   "source": [
    "import pandas as pd\n",
    "from pandas import Series,DataFrame\n",
    "import numpy as np\n",
    "from numpy.random import randn\n",
    "import matplotlib.pyplot as plt"
   ]
  },
  {
   "cell_type": "markdown",
   "metadata": {},
   "source": [
    "Working on Series"
   ]
  },
  {
   "cell_type": "code",
   "execution_count": 10,
   "metadata": {},
   "outputs": [
    {
     "name": "stdout",
     "output_type": "stream",
     "text": [
      "Direct Printing of Series \n",
      "0     5\n",
      "1    10\n",
      "2    15\n",
      "3    20\n",
      "dtype: int64\n",
      "Printing of Series with values \n",
      "[ 5 10 15 20]\n",
      "Printing of Series with index \n",
      "RangeIndex(start=0, stop=4, step=1)\n"
     ]
    }
   ],
   "source": [
    "object = Series([5,10,15,20])\n",
    "print(\"Direct Printing of Series \\n\"+str(object))\n",
    "print(\"Printing of Series with values \\n\"+str(object.values))\n",
    "print(\"Printing of Series with index \\n\"+str(object.index))"
   ]
  },
  {
   "cell_type": "markdown",
   "metadata": {},
   "source": [
    "Using Numpy Arrays to Series"
   ]
  },
  {
   "cell_type": "code",
   "execution_count": 8,
   "metadata": {},
   "outputs": [
    {
     "name": "stdout",
     "output_type": "stream",
     "text": [
      "Conversion of Array into Series : \n",
      "0    a\n",
      "1    b\n",
      "2    c\n",
      "dtype: object\n",
      "Series with Custom Index : \n",
      "100    a\n",
      "101    b\n",
      "102    c\n",
      "dtype: object\n",
      "ola      20\n",
      "uber     80\n",
      "grab     40\n",
      "gojek    35\n",
      "dtype: int64\n",
      "Finding Revenue of Ola from above series with index as ola :20\n",
      "Finding values which has Revenue greater than equal to 35 :\n",
      "uber     80\n",
      "grab     40\n",
      "gojek    35\n",
      "dtype: int64\n",
      "Boolean Condition if 'lyft' present in Series : False\n",
      "Indexing and assigning NaN value for extra index ola      20.0\n",
      "uber     80.0\n",
      "grab     40.0\n",
      "gojek    35.0\n",
      "lyft      NaN\n",
      "dtype: float64\n",
      "Checking is series contains any null values :\n",
      "ola      False\n",
      "uber     False\n",
      "grab     False\n",
      "gojek    False\n",
      "lyft      True\n",
      "dtype: bool\n",
      "Checking is series contains any notnull values :\n",
      "ola       True\n",
      "uber      True\n",
      "grab      True\n",
      "gojek     True\n",
      "lyft     False\n",
      "dtype: bool\n",
      "Addition of Both Series is :\n",
      "gojek     70.0\n",
      "grab      80.0\n",
      "lyft       NaN\n",
      "ola       40.0\n",
      "uber     160.0\n",
      "dtype: float64\n",
      "Assigning Series after name and index name \n",
      "Comapany Name\n",
      "ola      20.0\n",
      "uber     80.0\n",
      "grab     40.0\n",
      "gojek    35.0\n",
      "lyft      NaN\n",
      "Name: Company Revenues, dtype: float64\n",
      "Conversion of Series into Dictionary :\n",
      "{'ola': 20, 'uber': 80, 'grab': 40, 'gojek': 35}\n"
     ]
    }
   ],
   "source": [
    "data_array = np.array(['a','b','c'])\n",
    "s = Series(data_array)\n",
    "print(\"Conversion of Array into Series : \\n\"+str(s))\n",
    "\n",
    "#custom indexing\n",
    "s = Series(data_array,index=[100,101,102])\n",
    "print(\"Series with Custom Index : \\n\"+str(s))\n",
    "\n",
    "#using real life ex\n",
    "revenue = Series([20,80,40,35],index=['ola','uber','grab','gojek'])\n",
    "print(revenue)\n",
    "print(\"Finding Revenue of Ola from above series with index as ola :\"+str(revenue['ola']))\n",
    "\n",
    "print(\"Finding values which has Revenue greater than equal to 35 :\\n\"+str(revenue[revenue>=35]))\n",
    "\n",
    "#use boolean conditions\n",
    "print(\"Boolean Condition if 'lyft' present in Series : \"+str('lyft' in revenue))\n",
    "\n",
    "#nan values\n",
    "index_2 = ['ola','uber','grab','gojek','lyft']\n",
    "revenue2 = Series(revenue,index_2)\n",
    "print(\"Indexing and assigning NaN value for extra index \"+str(revenue2))\n",
    "\n",
    "\n",
    "#isnull and notnull\n",
    "print(\"Checking is series contains any null values :\\n\"+str(pd.isnull(revenue2)))\n",
    "print(\"Checking is series contains any notnull values :\\n\"+str(pd.notnull(revenue2)))\n",
    "\n",
    "#addition of series (+)\n",
    "print(\"Addition of Both Series is :\\n\"+str(revenue+revenue2))\n",
    "\n",
    "#assigning names\n",
    "revenue2.name=\"Company Revenues\"\n",
    "revenue2.index.name=\"Comapany Name\"\n",
    "print(\"Assigning Series after name and index name \\n\"+str(revenue2))\n",
    "\n",
    "revenue_dict = revenue.to_dict()\n",
    "print(\"Conversion of Series into Dictionary :\\n\"+str(revenue_dict))"
   ]
  },
  {
   "cell_type": "markdown",
   "metadata": {},
   "source": [
    "DataFramesfor read from clipboard"
   ]
  },
  {
   "cell_type": "code",
   "execution_count": null,
   "metadata": {},
   "outputs": [],
   "source": [
    "#example - Revenue of companies\n",
    "\n",
    "revenue_df = pd.read_clipboard()\n",
    "print(revenue_df)\n",
    "\n",
    "#index and columns\n",
    "print revenue_df.columns\n",
    "print revenue_df['Rank ']\n",
    "# #multiple columns\n",
    "\n",
    "print DataFrame(revenue_df,columns=['Rank ','Name ','Industry '])\n",
    "\n",
    "#Nan Values\n",
    "revenue_df2 = DataFrame(revenue_df,columns=['Rank ','Name ','Industry ','Profit'])\n",
    "print revenue_df2\n",
    "\n",
    "#head and tail\n",
    "print revenue_df.head(2)\n",
    "print revenue_df.tail(2)\n",
    "\n",
    "#access rows in df\n",
    "print revenue_df.ix[0] #row 1\n",
    "print revenue_df.ix[5] #row 6\n",
    "\n",
    "#assign values to df\n",
    "#numpy\n",
    "\n",
    "array1 = np.array([1,2,3,4,5,6])\n",
    "revenue_df2['Profit'] = array1\n",
    "print revenue_df2\n",
    "\n",
    "#series\n",
    "profits = Series([900,1000],index=[3,5])\n",
    "revenue_df2['Profit'] = profits\n",
    "\n",
    "print revenue_df2\n",
    "\n",
    "#deletion\n",
    "del revenue_df2['Profit']\n",
    "print revenue_df2\n",
    "\n"
   ]
  },
  {
   "cell_type": "markdown",
   "metadata": {},
   "source": [
    "Dictonary function to Dataframe "
   ]
  },
  {
   "cell_type": "code",
   "execution_count": 3,
   "metadata": {},
   "outputs": [
    {
     "name": "stdout",
     "output_type": "stream",
     "text": [
      "{'Name': ['Vijender', 'Barrett'], 'Salary': ['$100000', '$50000']}\n",
      "       Name   Salary\n",
      "0  Vijender  $100000\n",
      "1   Barrett   $50000\n"
     ]
    }
   ],
   "source": [
    "#dictionary function to dataframe\n",
    "sample = {\n",
    "     'Name':['Vijender','Barrett'],\n",
    "     'Salary':['$100000','$50000']\n",
    "}\n",
    "#\n",
    "print(sample)\n",
    "#\n",
    "sample_df = DataFrame(sample)\n",
    "print(sample_df)"
   ]
  },
  {
   "cell_type": "markdown",
   "metadata": {},
   "source": [
    "Index-Objects"
   ]
  },
  {
   "cell_type": "code",
   "execution_count": 7,
   "metadata": {},
   "outputs": [
    {
     "name": "stdout",
     "output_type": "stream",
     "text": [
      "Index(['a', 'b', 'c', 'd'], dtype='object')\n",
      "Index(['c', 'd'], dtype='object')\n",
      "Index(['c', 'd'], dtype='object')\n",
      "Index(['a', 'b'], dtype='object')\n",
      "Index(['c', 'd'], dtype='object')\n"
     ]
    }
   ],
   "source": [
    "series1 = Series([10,20,30,40],index=['a','b','c','d'])\n",
    "\n",
    "index1 = series1.index\n",
    "print(index1)\n",
    "\n",
    "print(index1[2:])\n",
    "\n",
    "#negative indexes\n",
    "print(index1[-2:])\n",
    "print(index1[:-2])\n",
    "\n",
    "print(index1[2:4])\n",
    "\n",
    "#interesting\n",
    "#index1[0] = 'e' #TypeError: Index does not support mutable operations"
   ]
  },
  {
   "cell_type": "code",
   "execution_count": null,
   "metadata": {},
   "outputs": [],
   "source": [
    "Reindexing in pandas"
   ]
  },
  {
   "cell_type": "code",
   "execution_count": 46,
   "metadata": {},
   "outputs": [
    {
     "name": "stdout",
     "output_type": "stream",
     "text": [
      "Default Series : \n",
      "1    Audi\n",
      "2    Merc\n",
      "3     BMW\n",
      "dtype: object\n",
      "use of reindex in default Series : \n",
      "1    Audi\n",
      "2    Merc\n",
      "3     BMW\n",
      "4     NaN\n",
      "dtype: object\n",
      "use of fillvalue in Series : \n",
      "1     Audi\n",
      "2     Merc\n",
      "3      BMW\n",
      "4      NaN\n",
      "5    Honda\n",
      "dtype: object\n",
      "range(0, 8)\n",
      "use of ffill in default Series : \n",
      "0      NaN\n",
      "1     Audi\n",
      "2     Merc\n",
      "3      BMW\n",
      "4      NaN\n",
      "5    Honda\n",
      "6    Honda\n",
      "7    Honda\n",
      "dtype: object\n"
     ]
    }
   ],
   "source": [
    "#create new series series1\n",
    "\n",
    "cars = Series(['Audi','Merc','BMW'],index=[1,2,3])\n",
    "print(\"Default Series : \\n\"+str(cars))\n",
    "\n",
    "#creating new indexes using reindex\n",
    "cars = cars.reindex([1,2,3,4])\n",
    "print(\"use of reindex in default Series : \\n\"+str(cars))\n",
    "\n",
    "#using fillvalue\n",
    "cars = cars.reindex([1,2,3,4,5],fill_value='Honda')\n",
    "print(\"use of fillvalue in Series : \\n\"+str(cars))\n",
    "\n",
    "#using reindex methods => ffill\n",
    "ranger = range(8)\n",
    "print(ranger)\n",
    "\n",
    "cars = cars.reindex(ranger,method=\"ffill\") #forward fill\n",
    "print(\"use of ffill in default Series : \\n\"+str(cars))"
   ]
  },
  {
   "cell_type": "code",
   "execution_count": 71,
   "metadata": {},
   "outputs": [
    {
     "name": "stdout",
     "output_type": "stream",
     "text": [
      "Default DataFrame \n",
      "           c1          c2          c3          c4          c5\n",
      "a   41.095337  133.441319   62.134812   80.562443  121.430050\n",
      "b    8.023766   64.395923    3.391770  120.205646   14.728023\n",
      "c    1.632736  196.337225   25.033773   35.914363   58.409063\n",
      "d  156.937274   39.252035   56.795006  114.272086   10.742794\n",
      "e    5.056198   92.753776  166.597537   68.598152  245.490350\n",
      "\n",
      " Reindexed Rows \n",
      "           c1          c2          c3          c4          c5\n",
      "a   41.095337  133.441319   62.134812   80.562443  121.430050\n",
      "b    8.023766   64.395923    3.391770  120.205646   14.728023\n",
      "c    1.632736  196.337225   25.033773   35.914363   58.409063\n",
      "d  156.937274   39.252035   56.795006  114.272086   10.742794\n",
      "e    5.056198   92.753776  166.597537   68.598152  245.490350\n",
      "f         NaN         NaN         NaN         NaN         NaN\n",
      "\n",
      " Reindexed Columns \n",
      "           c1          c2          c3          c4          c5  c6\n",
      "a   41.095337  133.441319   62.134812   80.562443  121.430050 NaN\n",
      "b    8.023766   64.395923    3.391770  120.205646   14.728023 NaN\n",
      "c    1.632736  196.337225   25.033773   35.914363   58.409063 NaN\n",
      "d  156.937274   39.252035   56.795006  114.272086   10.742794 NaN\n",
      "e    5.056198   92.753776  166.597537   68.598152  245.490350 NaN\n",
      "f         NaN         NaN         NaN         NaN         NaN NaN\n",
      "\n",
      " Reindexed Both Rows and Columns using ix function \n",
      "           c1          c2          c3          c4          c5  c6\n",
      "a   41.095337  133.441319   62.134812   80.562443  121.430050 NaN\n",
      "b    8.023766   64.395923    3.391770  120.205646   14.728023 NaN\n",
      "c    1.632736  196.337225   25.033773   35.914363   58.409063 NaN\n",
      "d  156.937274   39.252035   56.795006  114.272086   10.742794 NaN\n",
      "e    5.056198   92.753776  166.597537   68.598152  245.490350 NaN\n",
      "f         NaN         NaN         NaN         NaN         NaN NaN\n"
     ]
    },
    {
     "name": "stderr",
     "output_type": "stream",
     "text": [
      "/srv/conda/lib/python3.6/site-packages/ipykernel_launcher.py:14: DeprecationWarning: \n",
      ".ix is deprecated. Please use\n",
      ".loc for label based indexing or\n",
      ".iloc for positional indexing\n",
      "\n",
      "See the documentation here:\n",
      "http://pandas.pydata.org/pandas-docs/stable/indexing.html#ix-indexer-is-deprecated\n",
      "  \n",
      "/srv/conda/lib/python3.6/site-packages/ipykernel_launcher.py:14: FutureWarning: \n",
      "Passing list-likes to .loc or [] with any missing label will raise\n",
      "KeyError in the future, you can use .reindex() as an alternative.\n",
      "\n",
      "See the documentation here:\n",
      "https://pandas.pydata.org/pandas-docs/stable/indexing.html#deprecate-loc-reindex-listlike\n",
      "  \n"
     ]
    }
   ],
   "source": [
    "#create new dataframe using randn\n",
    "df_1 = DataFrame((abs(randn(25))*100).reshape(5,5),index=['a','b','c','d','e'], columns=['c1','c2','c3','c4','c5'])\n",
    "print(\"Default DataFrame \\n\"+str(df_1))\n",
    "\n",
    "#reindex rows of dataframe\n",
    "df_2 = df_1.reindex(['a','b','c','d','e','f'])\n",
    "print(\"\\n Reindexed Rows \\n\"+str(df_2))\n",
    "\n",
    "# #reindex columns of dataframe\n",
    "df_3 = df_2.reindex(columns=['c1','c2','c3','c4','c5','c6'])\n",
    "print(\"\\n Reindexed Columns \\n\"+str(df_3))\n",
    "\n",
    "# #using .ix[] to reindex\n",
    "df_4 = df_1.ix[['a','b','c','d','e','f'],['c1','c2','c3','c4','c5','c6']]\n",
    "print(\"\\n Reindexed Both Rows and Columns using ix function \\n\"+str(df_4))"
   ]
  },
  {
   "cell_type": "code",
   "execution_count": null,
   "metadata": {},
   "outputs": [],
   "source": [
    "Drop Entries"
   ]
  },
  {
   "cell_type": "code",
   "execution_count": 77,
   "metadata": {},
   "outputs": [
    {
     "name": "stdout",
     "output_type": "stream",
     "text": [
      "After Drop function to delete Audi \n",
      "2    Merc\n",
      "3     BMW\n",
      "dtype: object\n",
      "\n",
      "DataFrame as \n",
      "      rev  pro  exp\n",
      "BMW     0    1    2\n",
      "Audi    3    4    5\n",
      "Merc    6    7    8\n",
      "\n",
      " After dropping 'BMW' value from dataframe \n",
      "      rev  pro  exp\n",
      "Audi    3    4    5\n",
      "Merc    6    7    8\n",
      "\n",
      " After dropping by 'pro' index from dataframe \n",
      "      rev  exp\n",
      "Audi    3    5\n",
      "Merc    6    8\n"
     ]
    }
   ],
   "source": [
    "cars = Series(['Audi','Merc','BMW'],index=[1,2,3])\n",
    "cars = cars.drop(1)\n",
    "print(\"After Drop function to delete Audi \\n\"+str(cars))\n",
    "\n",
    "#dataframes\n",
    "cars_df = DataFrame(np.arange(9).reshape(3,3),index=['BMW','Audi','Merc'],columns=['rev','pro','exp'])\n",
    "print(\"\\nDataFrame as \\n\"+str(cars_df))\n",
    "\n",
    "cars_df = cars_df.drop('BMW',axis=0)\n",
    "print(\"\\n After dropping 'BMW' value from dataframe \\n\"+str(cars_df))\n",
    "\n",
    "cars_df = cars_df.drop('pro',axis=1)\n",
    "print(\"\\n After dropping by 'pro' index from dataframe \\n\"+str(cars_df))"
   ]
  },
  {
   "cell_type": "code",
   "execution_count": 82,
   "metadata": {},
   "outputs": [
    {
     "ename": "SyntaxError",
     "evalue": "invalid syntax (<ipython-input-82-6f166dc65afe>, line 1)",
     "output_type": "error",
     "traceback": [
      "\u001b[0;36m  File \u001b[0;32m\"<ipython-input-82-6f166dc65afe>\"\u001b[0;36m, line \u001b[0;32m1\u001b[0m\n\u001b[0;31m    Handling Null Data in Series\u001b[0m\n\u001b[0m                ^\u001b[0m\n\u001b[0;31mSyntaxError\u001b[0m\u001b[0;31m:\u001b[0m invalid syntax\n"
     ]
    }
   ],
   "source": [
    "Handling Null Data in Series"
   ]
  },
  {
   "cell_type": "code",
   "execution_count": 83,
   "metadata": {},
   "outputs": [
    {
     "name": "stdout",
     "output_type": "stream",
     "text": [
      "Default Series as \n",
      "0      A\n",
      "1      B\n",
      "2      C\n",
      "3      D\n",
      "4    NaN\n",
      "dtype: object\n",
      "\n",
      " Check for isnull in Series \n",
      "0    False\n",
      "1    False\n",
      "2    False\n",
      "3    False\n",
      "4     True\n",
      "dtype: bool\n",
      "\n",
      " Check after dropna in Series \n",
      "0    A\n",
      "1    B\n",
      "2    C\n",
      "3    D\n",
      "dtype: object\n"
     ]
    }
   ],
   "source": [
    "series1 = Series(['A','B','C','D',np.nan])\n",
    "print(\"Default Series as \\n\"+str(series1))\n",
    "\n",
    "#validate\n",
    "print(\"\\n Check for isnull in Series \\n\"+str(series1.isnull()))\n",
    "print(\"\\n Check after dropna in Series \\n\"+str(series1.dropna()))\n",
    "\n"
   ]
  },
  {
   "cell_type": "markdown",
   "metadata": {},
   "source": [
    "Handling Null Data in DataFrame"
   ]
  },
  {
   "cell_type": "code",
   "execution_count": 91,
   "metadata": {},
   "outputs": [
    {
     "name": "stdout",
     "output_type": "stream",
     "text": [
      "Default DataFrame is \n",
      "     0    1     2\n",
      "0  1.0  2.0   3.0\n",
      "1  5.0  6.0   NaN\n",
      "2  7.0  NaN  10.0\n",
      "3  NaN  NaN   NaN\n",
      "\n",
      " DataFrame after dropping na \n",
      "     0    1    2\n",
      "0  1.0  2.0  3.0\n",
      "\n",
      " DataFrame after dropping where all values as na \n",
      "     0    1     2\n",
      "0  1.0  2.0   3.0\n",
      "1  5.0  6.0   NaN\n",
      "2  7.0  NaN  10.0\n",
      "\n",
      " DataFrame after dropping na column wise \n",
      "Empty DataFrame\n",
      "Columns: []\n",
      "Index: [0, 1, 2, 3]\n",
      "\n",
      " New Dataframe as \n",
      "    0    1    2    3\n",
      "0   1  2.0  3.0  NaN\n",
      "1   4  5.0  6.0  7.0\n",
      "2   8  9.0  NaN  NaN\n",
      "3  12  NaN  NaN  NaN\n",
      "\n",
      " DataFrame after dropping na with threshold=3 \n",
      "   0    1    2    3\n",
      "0  1  2.0  3.0  NaN\n",
      "1  4  5.0  6.0  7.0\n",
      "\n",
      " DataFrame after dropping na with threshold=2 \n",
      "   0    1    2    3\n",
      "0  1  2.0  3.0  NaN\n",
      "1  4  5.0  6.0  7.0\n",
      "2  8  9.0  NaN  NaN\n",
      "\n",
      " DataFrame after fillna with one value \n",
      "    0    1    2    3\n",
      "0   1  2.0  3.0  0.0\n",
      "1   4  5.0  6.0  7.0\n",
      "2   8  9.0  0.0  0.0\n",
      "3  12  0.0  0.0  0.0\n",
      "\n",
      " DataFrame after fillna with all values\n",
      "    0     1      2      3\n",
      "0   1   2.0    3.0  200.0\n",
      "1   4   5.0    6.0    7.0\n",
      "2   8   9.0  100.0  200.0\n",
      "3  12  50.0  100.0  200.0\n"
     ]
    }
   ],
   "source": [
    "df1 = DataFrame([[1,2,3],[5,6,np.nan],[7,np.nan,10],[np.nan,np.nan,np.nan]])\n",
    "print(\"Default DataFrame is \\n\"+str(df1))\n",
    "\n",
    "print(\"\\n DataFrame after dropping na \\n\"+str(df1.dropna()))\n",
    "print(\"\\n DataFrame after dropping where all values as na \\n\"+str(df1.dropna(how='all')))\n",
    "\n",
    "#column wise drop6,\n",
    "print(\"\\n DataFrame after dropping na column wise \\n\"+str(df1.dropna(axis=1)))\n",
    "\n",
    "df2 = DataFrame([[1,2,3,np.nan],[4,5,6,7],[8,9,np.nan,np.nan],[12,np.nan,np.nan,np.nan]])\n",
    "print(\"\\n New Dataframe as \\n\"+str(df2))\n",
    "\n",
    "print(\"\\n DataFrame after dropping na with threshold=3 \\n\"+str(df2.dropna(thresh=3)))\n",
    "print(\"\\n DataFrame after dropping na with threshold=2 \\n\"+str(df2.dropna(thresh=2)))\n",
    "\n",
    "#fillna\n",
    "print(\"\\n DataFrame after fillna with one value \\n\"+str(df2.fillna(0)))\n",
    "print(\"\\n DataFrame after fillna with all values\\n\"+str(df2.fillna({0:0,1:50,2:100,3:200})))\n"
   ]
  },
  {
   "cell_type": "code",
   "execution_count": null,
   "metadata": {},
   "outputs": [],
   "source": [
    "Selecting Moditying Entires"
   ]
  },
  {
   "cell_type": "code",
   "execution_count": 92,
   "metadata": {},
   "outputs": [
    {
     "name": "stdout",
     "output_type": "stream",
     "text": [
      "Default Series is \n",
      "A    100\n",
      "B    200\n",
      "C    300\n",
      "dtype: int64\n",
      "100\n",
      "A    100\n",
      "B    200\n",
      "dtype: int64\n",
      "100\n",
      "A    100\n",
      "B    200\n",
      "dtype: int64\n",
      "B    200\n",
      "C    300\n",
      "dtype: int64\n",
      "C    300\n",
      "dtype: int64\n",
      "\n",
      " Default DataFrame \n",
      "       A  B  C\n",
      "car    0  1  2\n",
      "bike   3  4  5\n",
      "cycle  6  7  8\n",
      "car      0\n",
      "bike     3\n",
      "cycle    6\n",
      "Name: A, dtype: int64\n",
      "       A  B\n",
      "car    0  1\n",
      "bike   3  4\n",
      "cycle  6  7\n",
      "Dataframe with value>5 \n",
      "           A      B      C\n",
      "car    False  False  False\n",
      "bike   False  False  False\n",
      "cycle   True   True   True\n",
      "A    3\n",
      "B    4\n",
      "C    5\n",
      "Name: bike, dtype: int64\n",
      "A    3\n",
      "B    4\n",
      "C    5\n",
      "Name: bike, dtype: int64\n"
     ]
    },
    {
     "name": "stderr",
     "output_type": "stream",
     "text": [
      "/srv/conda/lib/python3.6/site-packages/ipykernel_launcher.py:25: DeprecationWarning: \n",
      ".ix is deprecated. Please use\n",
      ".loc for label based indexing or\n",
      ".iloc for positional indexing\n",
      "\n",
      "See the documentation here:\n",
      "http://pandas.pydata.org/pandas-docs/stable/indexing.html#ix-indexer-is-deprecated\n",
      "/srv/conda/lib/python3.6/site-packages/ipykernel_launcher.py:26: DeprecationWarning: \n",
      ".ix is deprecated. Please use\n",
      ".loc for label based indexing or\n",
      ".iloc for positional indexing\n",
      "\n",
      "See the documentation here:\n",
      "http://pandas.pydata.org/pandas-docs/stable/indexing.html#ix-indexer-is-deprecated\n"
     ]
    }
   ],
   "source": [
    "series1 = Series([100,200,300],index=['A','B','C'])\n",
    "print(\"Default Series is \\n\"+str(series1))\n",
    "\n",
    "print(series1['A'])\n",
    "print(series1[['A','B']])\n",
    "\n",
    "#number indexes\n",
    "print(series1[0])\n",
    "print(series1[0:2])\n",
    "\n",
    "#conditional indexes\n",
    "print(series1[series1>150])\n",
    "print(series1[series1==300])\n",
    "\n",
    "#using df and accesing\n",
    "df1 = DataFrame(np.arange(9).reshape(3,3),index=['car','bike','cycle'],columns=['A','B','C'])\n",
    "print(\"\\n Default DataFrame \\n\"+str(df1))\n",
    "\n",
    "print(df1['A'])\n",
    "print(df1[['A','B']])\n",
    "\n",
    "print(\"\\n Dataframe with value>5 \\n\"+str(df1>5))\n",
    "\n",
    "#ix function access\n",
    "print(df1.ix['bike'])\n",
    "print(df1.ix[1])"
   ]
  },
  {
   "cell_type": "code",
   "execution_count": null,
   "metadata": {},
   "outputs": [],
   "source": [
    "Data Alignment"
   ]
  },
  {
   "cell_type": "code",
   "execution_count": 93,
   "metadata": {},
   "outputs": [
    {
     "name": "stdout",
     "output_type": "stream",
     "text": [
      "Sum of series\n",
      "a    400.0\n",
      "b    600.0\n",
      "c    800.0\n",
      "d      NaN\n",
      "dtype: float64\n",
      "      a  b\n",
      "car   0  1\n",
      "bike  2  3\n",
      "       a  b  c\n",
      "car    0  1  2\n",
      "bike   3  4  5\n",
      "cycle  6  7  8\n",
      "         a    b   c\n",
      "bike   5.0  7.0 NaN\n",
      "car    0.0  2.0 NaN\n",
      "cycle  NaN  NaN NaN\n",
      "         a    b    c\n",
      "bike   5.0  7.0  5.0\n",
      "car    0.0  2.0  2.0\n",
      "cycle  6.0  7.0  8.0\n",
      "       a  b  c\n",
      "car    0  0  0\n",
      "bike   3  3  3\n",
      "cycle  6  6  6\n"
     ]
    },
    {
     "name": "stderr",
     "output_type": "stream",
     "text": [
      "/srv/conda/lib/python3.6/site-packages/ipykernel_launcher.py:17: DeprecationWarning: \n",
      ".ix is deprecated. Please use\n",
      ".loc for label based indexing or\n",
      ".iloc for positional indexing\n",
      "\n",
      "See the documentation here:\n",
      "http://pandas.pydata.org/pandas-docs/stable/indexing.html#ix-indexer-is-deprecated\n"
     ]
    }
   ],
   "source": [
    "ser_a = Series([100,200,300],index=['a','b','c'])\n",
    "ser_b = Series([300,400,500,600],index=['a','b','c','d'])\n",
    "\n",
    "#sum of series\n",
    "print(\"Sum of series\\n\"+str(ser_a+ser_b))\n",
    "\n",
    "#dataframe\n",
    "df1 = DataFrame(np.arange(4).reshape(2,2),columns=['a','b'],index=['car','bike'])\n",
    "print(df1)\n",
    "df2 = DataFrame(np.arange(9).reshape(3,3),columns=['a','b','c'],index=['car','bike','cycle'])\n",
    "print(df2)\n",
    "print(df1+df2)\n",
    "\n",
    "#important\n",
    "df1 = df1.add(df2,fill_value=0)\n",
    "print(df1)\n",
    "\n",
    "ser_c = df2.ix[0]\n",
    "print(df2 - ser_c)\n"
   ]
  },
  {
   "cell_type": "code",
   "execution_count": null,
   "metadata": {},
   "outputs": [],
   "source": [
    "Ranking Sorting"
   ]
  },
  {
   "cell_type": "code",
   "execution_count": 94,
   "metadata": {},
   "outputs": [
    {
     "name": "stdout",
     "output_type": "stream",
     "text": [
      "a     500\n",
      "c    1000\n",
      "b    1500\n",
      "dtype: int64\n",
      "a     500\n",
      "b    1500\n",
      "c    1000\n",
      "dtype: int64\n",
      "a     500\n",
      "c    1000\n",
      "b    1500\n",
      "dtype: int64\n",
      "a    1.0\n",
      "c    2.0\n",
      "b    3.0\n",
      "dtype: float64\n"
     ]
    }
   ],
   "source": [
    "ser1 =Series([500,1000,1500],index=['a','c','b'])\n",
    "print(ser1)\n",
    "#sorting by index\n",
    "print(ser1.sort_index())\n",
    "\n",
    "#sort by values\n",
    "print(ser1.sort_values())\n",
    "\n",
    "print(ser1.rank())"
   ]
  },
  {
   "cell_type": "code",
   "execution_count": null,
   "metadata": {},
   "outputs": [],
   "source": [
    "Pandas Statistical"
   ]
  },
  {
   "cell_type": "code",
   "execution_count": 123,
   "metadata": {},
   "outputs": [
    {
     "name": "stdout",
     "output_type": "stream",
     "text": [
      "Default DataFrame \n",
      "      A     B     C\n",
      "1  10.0   NaN  20.0\n",
      "2  30.0  40.0   NaN\n",
      "\n",
      " Sum along each column \n",
      "A    40.0\n",
      "B    40.0\n",
      "C    20.0\n",
      "dtype: float64\n",
      "\n",
      " Sum along indexes \n",
      "1    30.0\n",
      "2    70.0\n",
      "dtype: float64\n",
      "\n",
      " Min in dataframe in column wise\n",
      "A    10.0\n",
      "B    40.0\n",
      "C    20.0\n",
      "dtype: float64\n",
      "\n",
      " Max in dataframe in column wise\n",
      "A    30.0\n",
      "B    40.0\n",
      "C    20.0\n",
      "dtype: float64\n",
      "\n",
      " Max in dataframe with idxmax\n",
      "A    2\n",
      "B    2\n",
      "C    1\n",
      "dtype: int64\n",
      "\n",
      " Dataframe with cumsum\n",
      "      A     B     C\n",
      "1  10.0   NaN  20.0\n",
      "2  40.0  40.0   NaN\n",
      "\n",
      " Dataframe with Describe function\n",
      "               A     B     C\n",
      "count   2.000000   1.0   1.0\n",
      "mean   20.000000  40.0  20.0\n",
      "std    14.142136   NaN   NaN\n",
      "min    10.000000  40.0  20.0\n",
      "25%    15.000000  40.0  20.0\n",
      "50%    20.000000  40.0  20.0\n",
      "75%    25.000000  40.0  20.0\n",
      "max    30.000000  40.0  20.0\n",
      "\n",
      " Outputing unique values in list ['a' 'b' 'c' 'd']\n",
      "\n",
      " Outputing count of unique values in list a    3\n",
      "c    3\n",
      "b    2\n",
      "d    1\n",
      "dtype: int64\n",
      "\n",
      " Default Dataframe \n",
      "          A         B         C\n",
      "1  1.026830  1.318311 -0.117528\n",
      "2 -2.355805 -1.355895 -1.346257\n",
      "3 -1.228282 -0.538601  0.532190\n"
     ]
    },
    {
     "data": {
      "image/png": "[encoded data removed]",
      "text/plain": [
       "<Figure size 432x288 with 1 Axes>"
      ]
     },
     "metadata": {},
     "output_type": "display_data"
    }
   ],
   "source": [
    "array1 = np.array([[10,np.nan,20],[30,40,np.nan]])\n",
    "#print(array1)\n",
    "df1 = DataFrame(array1,index=[1,2],columns=list('ABC'))\n",
    "print(\"Default DataFrame \\n\"+str(df1))\n",
    "\n",
    "#sum()\n",
    "print(\"\\n Sum along each column \\n\"+str(df1.sum()))\n",
    "print(\"\\n Sum along indexes \\n\"+str(df1.sum(axis=1)))\n",
    "\n",
    "print(\"\\n Min in dataframe in column wise\\n\"+str(df1.min()))\n",
    "print(\"\\n Max in dataframe in column wise\\n\"+str(df1.max()))\n",
    "\n",
    "#idxmax : Return index of first occurrence of maximum over requested axis. NA/null values are excluded\n",
    "print(\"\\n Max in dataframe with idxmax\\n\"+str(df1.idxmax()))\n",
    "\n",
    "#cumsum : Return cumulative sum over a DataFrame or Series axis\n",
    "print(\"\\n Dataframe with cumsum\\n\"+str(df1.cumsum()))\n",
    "\n",
    "\n",
    "print(\"\\n Dataframe with Describe function\\n\"+str(df1.describe()))\n"
   ]
  },
  {
   "cell_type": "markdown",
   "metadata": {},
   "source": [
    "Unique Values in Series and count of unique"
   ]
  },
  {
   "cell_type": "code",
   "execution_count": 127,
   "metadata": {},
   "outputs": [
    {
     "name": "stdout",
     "output_type": "stream",
     "text": [
      "Outputing unique values in list : ['a' 'b' 'c' 'd']\n",
      "\n",
      "Outputing count of unique values in list \n",
      "a    3\n",
      "c    3\n",
      "b    2\n",
      "d    1\n",
      "dtype: int64\n"
     ]
    }
   ],
   "source": [
    "ser1 = Series(list('abcccaabd'))\n",
    "print(\"Outputing unique values in list : \"+str(ser1.unique()))\n",
    "print(\"\\nOutputing count of unique values in list \\n\"+str(ser1.value_counts()))"
   ]
  },
  {
   "cell_type": "markdown",
   "metadata": {},
   "source": [
    "Statiscal Ploting DataFrame"
   ]
  },
  {
   "cell_type": "code",
   "execution_count": 130,
   "metadata": {},
   "outputs": [
    {
     "name": "stdout",
     "output_type": "stream",
     "text": [
      "\n",
      " Default Dataframe \n",
      "          A         B         C\n",
      "1  1.447055  0.438494  0.722936\n",
      "2  1.883034  0.344400  0.585999\n",
      "3  0.241106  0.571937  0.196958\n"
     ]
    },
    {
     "data": {
      "image/png": "[encoded data removed]",
      "text/plain": [
       "<Figure size 432x288 with 1 Axes>"
      ]
     },
     "metadata": {},
     "output_type": "display_data"
    }
   ],
   "source": [
    "\n",
    "df2 = DataFrame(abs(randn(9)).reshape(3,3),index=[1,2,3],columns=list('ABC'))\n",
    "print(\"\\n Default Dataframe \\n\"+str(df2))\n",
    "\n",
    "plt.plot(df2)\n",
    "plt.legend(df2.columns,loc=\"lower right\")\n",
    "plt.savefig('samplepic.png')\n",
    "plt.show()\n"
   ]
  },
  {
   "cell_type": "code",
   "execution_count": null,
   "metadata": {},
   "outputs": [],
   "source": []
  }
 ],
 "metadata": {
  "kernelspec": {
   "display_name": "Python 3",
   "language": "python",
   "name": "python3"
  },
  "language_info": {
   "codemirror_mode": {
    "name": "ipython",
    "version": 3
   },
   "file_extension": ".py",
   "mimetype": "text/x-python",
   "name": "python",
   "nbconvert_exporter": "python",
   "pygments_lexer": "ipython3",
   "version": "3.6.5"
  }
 },
 "nbformat": 4,
 "nbformat_minor": 2
}
