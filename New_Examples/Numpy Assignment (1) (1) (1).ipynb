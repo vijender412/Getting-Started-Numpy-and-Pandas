{
 "cells": [
  {
   "cell_type": "code",
   "execution_count": 5,
   "metadata": {},
   "outputs": [
    {
     "name": "stdout",
     "output_type": "stream",
     "text": [
      "Collecting numpy\n",
      "  Downloading https://files.pythonhosted.org/packages/fe/94/7049fed8373c52839c8cde619acaf2c9b83082b935e5aa8c0fa27a4a8bcc/numpy-1.15.1-cp36-cp36m-manylinux1_x86_64.whl (13.9MB)\n",
      "\u001b[K    100% |████████████████████████████████| 13.9MB 43kB/s  eta 0:00:01\n",
      "\u001b[?25hInstalling collected packages: numpy\n",
      "Successfully installed numpy-1.15.1\n",
      "\u001b[33mYou are using pip version 9.0.3, however version 18.0 is available.\n",
      "You should consider upgrading via the 'pip install --upgrade pip' command.\u001b[0m\n"
     ]
    }
   ],
   "source": [
    "!pip install numpy\n",
    "import numpy as np"
   ]
  },
  {
   "cell_type": "markdown",
   "metadata": {},
   "source": [
    "Creating an Array in Numpy"
   ]
  },
  {
   "cell_type": "code",
   "execution_count": 15,
   "metadata": {},
   "outputs": [
    {
     "name": "stdout",
     "output_type": "stream",
     "text": [
      "Original List is [1, 2, 3, 4] and Type is <class 'list'>\n",
      "New Numpy Array is [1 2 3 4] and Type is <class 'numpy.ndarray'>\n"
     ]
    }
   ],
   "source": [
    "my_list=[1,2,3,4]\n",
    "print(\"Original List is \"+str(my_list)+\" and Type is \"+str(type(my_list)))\n",
    "arr=np.array(my_list)\n",
    "print(\"New Numpy Array is \"+str(arr)+\" and Type is \"+str(type(arr)))"
   ]
  },
  {
   "cell_type": "markdown",
   "metadata": {},
   "source": [
    "Creating 2d array in numpy"
   ]
  },
  {
   "cell_type": "code",
   "execution_count": 22,
   "metadata": {},
   "outputs": [
    {
     "name": "stdout",
     "output_type": "stream",
     "text": [
      "2d Arrays is \n",
      "[[1 2 3 4]\n",
      " [5 6 7 8]]\n",
      "2d Arrays is \n",
      "[[11 22 33 44]\n",
      " [55 66 77 88]]\n"
     ]
    }
   ],
   "source": [
    "my_list1=[1,2,3,4]\n",
    "my_list2=[5,6,7,8]\n",
    "#method 1\n",
    "arr2d_m1=np.array([my_list1,my_list2])\n",
    "print(\"2d Arrays is \\n\"+str(arr2d_m1))\n",
    "#method 2\n",
    "arr2d_m2=np.array([[11,22,33,44],[55,66,77,88]])\n",
    "print(\"2d Arrays is \\n\"+str(arr2d_m2))"
   ]
  },
  {
   "cell_type": "markdown",
   "metadata": {},
   "source": [
    "Use of shape,dtype(datatype of the members of the array)"
   ]
  },
  {
   "cell_type": "code",
   "execution_count": 32,
   "metadata": {},
   "outputs": [
    {
     "name": "stdout",
     "output_type": "stream",
     "text": [
      "[[1 2 3 4]\n",
      " [5 6 7 8]]\n",
      "Shape of above matrix is (2, 4)\n",
      "Datatype of members of array is of type int64\n"
     ]
    }
   ],
   "source": [
    "print(arr2d_m1)\n",
    "print(\"Shape of above matrix is \"+str(arr2d_m1.shape))\n",
    "print(\"Datatype of members of array is of type \"+str(arr.dtype))"
   ]
  },
  {
   "cell_type": "markdown",
   "metadata": {},
   "source": [
    "#zeros, ones, empty, eye, arange"
   ]
  },
  {
   "cell_type": "code",
   "execution_count": 47,
   "metadata": {},
   "outputs": [
    {
     "name": "stdout",
     "output_type": "stream",
     "text": [
      "Use of Zeros Function of Numpy [0. 0. 0. 0.]\n",
      "Use of ones Function of Numpy \n",
      "[[1. 1.]\n",
      " [1. 1.]]\n",
      "Use of eye Function of Numpy \n",
      "[[1. 0.]\n",
      " [0. 1.]]\n",
      "Use of arange Function of Numpy [ 4  8 12 16 20]\n"
     ]
    }
   ],
   "source": [
    "array1 = np.zeros(4)\n",
    "print(\"Use of Zeros Function of Numpy \"+str(array1))\n",
    "array1 = np.ones([2,2]) \n",
    "print(\"Use of ones Function of Numpy \\n\"+str(array1))\n",
    "array1 = np.eye(2)\n",
    "print(\"Use of eye Function of Numpy \\n\"+str(array1))\n",
    "array1 = np.arange(4,24,4)\n",
    "print(\"Use of arange Function of Numpy \"+str(array1))"
   ]
  },
  {
   "cell_type": "markdown",
   "metadata": {},
   "source": [
    "Scalar Matrix"
   ]
  },
  {
   "cell_type": "code",
   "execution_count": 54,
   "metadata": {},
   "outputs": [
    {
     "name": "stdout",
     "output_type": "stream",
     "text": [
      "Array 1 \n",
      "[[1 2 3 4]\n",
      " [5 6 7 8]]\n",
      "Array 2 \n",
      "[[5 6 7 8]\n",
      " [1 2 3 4]]\n",
      "Mutiplication of above arrays \n",
      "[[ 5 12 21 32]\n",
      " [ 5 12 21 32]]\n",
      "Expo Mutiplication of above arrays \n",
      "[[  1   8  27  64]\n",
      " [125 216 343 512]]\n",
      "Subtraction of above arrays \n",
      "[[ 4  4  4  4]\n",
      " [-4 -4 -4 -4]]\n",
      "Reciprocal of above arrays \n",
      "[[1.         0.5        0.33333333 0.25      ]\n",
      " [0.2        0.16666667 0.14285714 0.125     ]]\n"
     ]
    }
   ],
   "source": [
    "array1 = np.array([[1,2,3,4],[5,6,7,8]])\n",
    "array2 = np.array([[5,6,7,8],[1,2,3,4]])\n",
    "print(\"Array 1 \\n\"+str(array1))\n",
    "print(\"Array 2 \\n\"+str(array2))\n",
    "\n",
    "#multiplication\n",
    "array3 = array1*array2\n",
    "print(\"Mutiplication of above arrays \\n\"+str(array3))\n",
    "\n",
    "#exp multiplication\n",
    "array3 = array1 ** 3\n",
    "print(\"Expo Mutiplication of above arrays \\n\"+str(array3))\n",
    "\n",
    "#subtraction\n",
    "array3 = array2 - array1;\n",
    "print(\"Subtraction of above arrays \\n\"+str(array3))\n",
    "\n",
    "#reciprocal\n",
    "array3 = 1/array1;\n",
    "print(\"Reciprocal of above arrays \\n\"+str(array3))"
   ]
  },
  {
   "cell_type": "markdown",
   "metadata": {},
   "source": [
    "Indexing of Arrays"
   ]
  },
  {
   "cell_type": "code",
   "execution_count": 66,
   "metadata": {},
   "outputs": [
    {
     "name": "stdout",
     "output_type": "stream",
     "text": [
      "Defined array as [ 0  1  2  3  4  5  6  7  8  9 10 11]\n",
      "Slicing array(0,5) as [0 1 2 3 4]\n",
      "Slicing array(2,6) as [2 3 4 5]\n",
      "Slicing and assinging value is [20 20 20 20 20  5  6  7  8  9 10 11]\n",
      "Array after slicing value is [29 29 29 29 29 29  6  7  8  9 10 11]\n"
     ]
    }
   ],
   "source": [
    "arr = np.arange(0,12)\n",
    "print(\"Defined array as \"+str(arr))\n",
    "\n",
    "print(\"Slicing array(0,5) as \"+str(arr[0:5]))\n",
    "print(\"Slicing array(2,6) as \"+str(arr[2:6]))\n",
    "\n",
    "arr[0:5] = 20\n",
    "print(\"Slicing and assinging value is \"+str(arr))\n",
    "\n",
    "arr2 = arr[0:6]\n",
    "arr2[:] = 29 \n",
    "print(\"Array after slicing value is \"+str(arr))\n",
    "\n",
    "# creating new array copy\n",
    "arrcopy = arr.copy()"
   ]
  },
  {
   "cell_type": "markdown",
   "metadata": {},
   "source": [
    "More about Indexing"
   ]
  },
  {
   "cell_type": "code",
   "execution_count": 77,
   "metadata": {},
   "outputs": [
    {
     "name": "stdout",
     "output_type": "stream",
     "text": [
      "Array is \n",
      "[[1 2 3]\n",
      " [4 5 6]\n",
      " [7 8 9]]\n",
      "Value at Row 2 Column 3 is 6\n",
      "Slice 1 is as \n",
      "[[1 2]\n",
      " [4 5]]\n",
      "Array is as \n",
      "[[ 1 15 15]\n",
      " [ 4 15 15]\n",
      " [ 7  8  9]]\n",
      "Array after indexing is \n",
      "[[0 0 0]\n",
      " [1 1 1]\n",
      " [2 2 2]]\n",
      "Slice with [[0,1]] is as \n",
      "[[0 0 0]\n",
      " [1 1 1]]\n",
      "Slice with [[1,0]] is as \n",
      "[[1 1 1]\n",
      " [0 0 0]]\n"
     ]
    }
   ],
   "source": [
    "arr2d = np.array([[1,2,3],[4,5,6],[7,8,9]])\n",
    "print(\"Array is \\n\"+str(arr2d))\n",
    "print(\"Value at Row 2 Column 3 is \"+str(arr2d[1][2]))\n",
    "\n",
    "#slices of 2d array\n",
    "slice1 = arr2d[0:2,0:2]\n",
    "print(\"Slice 1 is as \\n\"+str(slice1))\n",
    "arr2d[:2,1:] = 15\n",
    "print(\"Array is as \\n\"+str(arr2d))\n",
    "\n",
    "#using loops to index\n",
    "arr_len = arr2d.shape[0]\n",
    "\n",
    "for i in range(arr_len):\n",
    "    arr2d[i] = i;\n",
    "print(\"Array after indexing is \\n\"+str(arr2d))\n",
    "\n",
    "#one more way of accessing the rows\n",
    "print(\"Slice with [[0,1]] is as \\n\"+str(arr2d[[0,1]]))\n",
    "print(\"Slice with [[1,0]] is as \\n\"+str(arr2d[[1,0]]))"
   ]
  },
  {
   "cell_type": "markdown",
   "metadata": {},
   "source": [
    "Universal Array Functions"
   ]
  },
  {
   "cell_type": "markdown",
   "metadata": {},
   "source": [
    "#arange\n",
    "#sqrt\n",
    "#exp\n",
    "#random\n",
    "#addition\n",
    "#maximum"
   ]
  },
  {
   "cell_type": "code",
   "execution_count": 82,
   "metadata": {},
   "outputs": [
    {
     "name": "stdout",
     "output_type": "stream",
     "text": [
      "A is [ 0  1  2  3  4  5  6  7  8  9 10 11 12 13 14]\n",
      "A is [ 1  3  5  7  9 11 13]\n",
      "B is \n",
      "[1.         1.73205081 2.23606798 2.64575131 3.         3.31662479\n",
      " 3.60555128]\n",
      "C is \n",
      "[2.71828183e+00 2.00855369e+01 1.48413159e+02 1.09663316e+03\n",
      " 8.10308393e+03 5.98741417e+04 4.42413392e+05]\n",
      "D is \n",
      "[ 2.          4.73205081  7.23606798  9.64575131 12.         14.31662479\n",
      " 16.60555128]\n",
      "E is \n",
      "[ 1.  3.  5.  7.  9. 11. 13.]\n"
     ]
    }
   ],
   "source": [
    "A = np.arange(15)\n",
    "print(\"A is \"+str(A))\n",
    "A = np.arange(1,15,2)\n",
    "print(\"A is \"+str(A))\n",
    "\n",
    "#sqrt\n",
    "B = np.sqrt(A)\n",
    "print(\"B is \\n\"+str(B))\n",
    "\n",
    "#exp\n",
    "C = np.exp(A)\n",
    "print(\"C is \\n\"+str(C))\n",
    "\n",
    "#add\n",
    "D = np.add(A,B)\n",
    "print(\"D is \\n\"+str(D))\n",
    "\n",
    "#maximum\n",
    "E = np.maximum(A,B)\n",
    "print(\"E is \\n\"+str(E))"
   ]
  },
  {
   "cell_type": "markdown",
   "metadata": {},
   "source": [
    "Saving array"
   ]
  },
  {
   "cell_type": "code",
   "execution_count": 84,
   "metadata": {},
   "outputs": [
    {
     "name": "stdout",
     "output_type": "stream",
     "text": [
      "[0 1 2 3 4 5 6 7 8 9]\n",
      "[0 1 2 3 4 5 6 7 8 9]\n"
     ]
    }
   ],
   "source": [
    "# Saving single arrays\n",
    "arr = np.arange(10)\n",
    "print(arr)\n",
    "\n",
    "np.save('saved_array',arr)\n",
    "#New file is created - saved_array.npy\n",
    "\n",
    "new_array = np.load('saved_array.npy')\n",
    "print(new_array)\n",
    "\n"
   ]
  },
  {
   "cell_type": "code",
   "execution_count": 86,
   "metadata": {},
   "outputs": [
    {
     "name": "stdout",
     "output_type": "stream",
     "text": [
      "load_archive[x] is [ 0  1  2  3  4  5  6  7  8  9 10 11 12 13 14 15 16 17 18 19 20 21 22 23\n",
      " 24]\n",
      "load_archive[y] is [ 0  1  2  3  4  5  6  7  8  9 10 11 12 13 14 15 16 17 18 19 20 21 22 23\n",
      " 24 25 26 27 28 29]\n"
     ]
    }
   ],
   "source": [
    "# Save Multiple arrays\n",
    "array_1 = np.arange(25)\n",
    "array_2 = np.arange(30)\n",
    "\n",
    "np.savez('saved_archive.npz',x = array_1,y = array_2)\n",
    "\n",
    "load_archive = np.load('saved_archive.npz')\n",
    "\n",
    "print('load_archive[x] is '+str(load_archive['x']))\n",
    "\n",
    "print('load_archive[y] is '+str(load_archive['y']))\n"
   ]
  },
  {
   "cell_type": "code",
   "execution_count": 88,
   "metadata": {},
   "outputs": [
    {
     "name": "stdout",
     "output_type": "stream",
     "text": [
      "load_txt_file is[ 0.  1.  2.  3.  4.  5.  6.  7.  8.  9. 10. 11. 12. 13. 14. 15. 16. 17.\n",
      " 18. 19. 20. 21. 22. 23. 24.]\n"
     ]
    }
   ],
   "source": [
    "#save to txtfile\n",
    "np.savetxt('notepadfile.txt',array_1,delimiter=',')\n",
    "#loading of txt files\n",
    "load_txt_file = np.loadtxt('notepadfile.txt',delimiter=',')\n",
    "print(\"load_txt_file is\"+str(load_txt_file))"
   ]
  },
  {
   "cell_type": "markdown",
   "metadata": {},
   "source": [
    "Statistics"
   ]
  },
  {
   "cell_type": "code",
   "execution_count": 92,
   "metadata": {},
   "outputs": [
    {
     "data": {
      "image/png": "[encoded data removed]",
      "text/plain": [
       "<Figure size 432x288 with 2 Axes>"
      ]
     },
     "metadata": {},
     "output_type": "display_data"
    }
   ],
   "source": [
    "import matplotlib.pyplot as plt\n",
    "axes_values = np.arange(-100,100,10)\n",
    "dx, dy = np.meshgrid(axes_values,axes_values)\n",
    "\n",
    "#print(\"dx:\"+str(dx))\n",
    "#print(\"dy\"+str(dy))\n",
    "\n",
    "function1 = 2*dx+3*dy\n",
    "function2 = np.cos(dx)+np.cos(dy)\n",
    "\n",
    "#print(function1)\n",
    "#print(function2)\n",
    "\n",
    "#replace function2 by function1 to get graph of function1\n",
    "#plotting the function on graph\n",
    "plt.imshow(function2)\n",
    "plt.title(\"function cos plot\")\n",
    "plt.colorbar()\n",
    "plt.savefig('myfig2.png')"
   ]
  },
  {
   "cell_type": "markdown",
   "metadata": {},
   "source": [
    "Clausing "
   ]
  },
  {
   "cell_type": "code",
   "execution_count": 12,
   "metadata": {},
   "outputs": [
    {
     "name": "stdout",
     "output_type": "stream",
     "text": [
      "Condition using loops \n",
      "[100, 400, 20, 25]\n",
      "Condition using where \n",
      "[100 400  20  25]\n",
      "Using where clause where if x>0 then 0 else 1 \n",
      "[0 0 0 0]\n"
     ]
    }
   ],
   "source": [
    "x = np.array([100,400,500,600]) #each member 'a'\n",
    "y = np.array([10,15,20,25]) #each member 'b'\n",
    "condition = np.array([True,True,False,False]) #each menber cond\n",
    "\n",
    "#use loops indirectly to perform this\n",
    "z = [a if cond else b for a,cond,b in zip(x,condition,y)]\n",
    "print(\"Condition using loops \\n\"+str(z))\n",
    "\n",
    "#np.where(#condition,#value for yes, #value for No)\n",
    "z2 = np.where(condition,x,y)\n",
    "print(\"Condition using where \\n\"+str(z2))\n",
    "\n",
    "z3 = np.where(x>0,0,1)\n",
    "print(\"Using where clause where if x>0 then 0 else 1 \\n\"+str(z3))\n",
    "\n"
   ]
  },
  {
   "cell_type": "markdown",
   "metadata": {},
   "source": [
    "Standard functions of numpy"
   ]
  },
  {
   "cell_type": "code",
   "execution_count": 27,
   "metadata": {},
   "outputs": [
    {
     "name": "stdout",
     "output_type": "stream",
     "text": [
      "[[1 2]\n",
      " [3 4]]\n",
      "Sum of \n",
      "10\n",
      "Sum of Columns \n",
      "[4 6]\n",
      "Sum of Mean : 400.0\n",
      "Sum of Standard Devation : 187.08286933869707\n",
      "Sum of varainace : 35000.0\n",
      "OR Operation : True\n",
      "AND Operation : False\n",
      "Array before sorting : [ 1  2  8 10  7  3]\n",
      "Array after sorting : [ 1  2  3  7  8 10]\n",
      "Original Array ['solid' 'solid' 'solid' 'liquid' 'liquid' 'gas' 'gas']\n",
      "Unique elements in Array['gas' 'liquid' 'solid']\n",
      "Check if array contains ['solid','gas','plasma'] : [ True  True False]\n"
     ]
    }
   ],
   "source": [
    "n = np.array([[1,2],[3,4]])\n",
    "print(n)\n",
    "\n",
    "print(\"Sum of \\n\"+str(n.sum()))\n",
    "#column sum\n",
    "print(\"Sum of Columns \\n\"+str(n.sum(0)))\n",
    "\n",
    "print(\"Sum of Mean : \"+str(x.mean()))\n",
    "print(\"Sum of Standard Devation : \"+str(x.std()))\n",
    "print(\"Sum of varainace : \"+str(x.var()))\n",
    "\n",
    "#logical operations - and / or operations\n",
    "\n",
    "condition2 = np.array([True,False,True])\n",
    "print(\"OR Operation : \"+str(condition2.any())) #or operator\n",
    "print(\"AND Operation : \"+str(condition2.all())) #and operator\n",
    "\n",
    "#sorting in numpy arrays\n",
    "\n",
    "unsorted_array = np.array([1,2,8,10,7,3])\n",
    "print(\"Array before sorting : \"+str(unsorted_array))\n",
    "unsorted_array.sort()\n",
    "print(\"Array after sorting : \"+str(unsorted_array))\n",
    "\n",
    "arr2 = np.array(['solid','solid','solid','liquid','liquid','gas','gas'])\n",
    "print(\"Original Array \"+str(arr2))\n",
    "print(\"Unique elements in Array\"+str(np.unique(arr2)))\n",
    "\n",
    "print(\"Check if array contains ['solid','gas','plasma'] : \"+str(np.in1d(['solid','gas','plasma'],arr2)))"
   ]
  },
  {
   "cell_type": "markdown",
   "metadata": {},
   "source": [
    "NOW PANDAS"
   ]
  }
 ],
 "metadata": {
  "kernelspec": {
   "display_name": "Python 3",
   "language": "python",
   "name": "python3"
  },
  "language_info": {
   "codemirror_mode": {
    "name": "ipython",
    "version": 3
   },
   "file_extension": ".py",
   "mimetype": "text/x-python",
   "name": "python",
   "nbconvert_exporter": "python",
   "pygments_lexer": "ipython3",
   "version": "3.6.5"
  }
 },
 "nbformat": 4,
 "nbformat_minor": 2
}
